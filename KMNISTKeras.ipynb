{
  "nbformat": 4,
  "nbformat_minor": 0,
  "metadata": {
    "colab": {
      "provenance": []
    },
    "kernelspec": {
      "name": "python3",
      "display_name": "Python 3"
    },
    "accelerator": "GPU"
  },
  "cells": [
    {
      "cell_type": "markdown",
      "metadata": {
        "id": "vg7DXqKtc1qa"
      },
      "source": [
        "# CNN KMNIST"
      ]
    },
    {
      "cell_type": "markdown",
      "source": [
        "##Libraries and data"
      ],
      "metadata": {
        "id": "lOdkk0diGM7j"
      }
    },
    {
      "cell_type": "code",
      "metadata": {
        "id": "uqwZi66ATTAq",
        "colab": {
          "base_uri": "https://localhost:8080/"
        },
        "outputId": "f2795f5a-96dd-4a21-a09c-64e64c250f65"
      },
      "source": [
        "import tensorflow as tf\n",
        "print(tf.__version__)\n",
        "\n",
        "import numpy as np\n",
        "print(np.__version__)\n",
        "\n",
        "import matplotlib\n",
        "import matplotlib.pyplot as plt\n",
        "print(matplotlib.__version__)"
      ],
      "execution_count": null,
      "outputs": [
        {
          "output_type": "stream",
          "name": "stdout",
          "text": [
            "2.17.0\n",
            "1.26.4\n",
            "3.7.1\n"
          ]
        }
      ]
    },
    {
      "cell_type": "markdown",
      "metadata": {
        "id": "ZcqpjBiGTkc1"
      },
      "source": [
        "Check whether a GPU is present:"
      ]
    },
    {
      "cell_type": "code",
      "metadata": {
        "id": "N_GmvcPXTi92",
        "colab": {
          "base_uri": "https://localhost:8080/"
        },
        "outputId": "25e3401d-1ebe-4f35-8b81-2d4195bf1ace"
      },
      "source": [
        "device_name = tf.test.gpu_device_name()\n",
        "if device_name != '/device:GPU:0':\n",
        "    print('GPU device not found')\n",
        "else:\n",
        "    print('Found GPU at: {}'.format(device_name))"
      ],
      "execution_count": null,
      "outputs": [
        {
          "output_type": "stream",
          "name": "stdout",
          "text": [
            "Found GPU at: /device:GPU:0\n"
          ]
        }
      ]
    },
    {
      "cell_type": "markdown",
      "metadata": {
        "id": "z28Mg6fCEOe9"
      },
      "source": [
        "If you obtain `GPU device not found`, try  \n",
        "> Runtime > Change runtime type >  GPU  \n",
        "\n",
        "and run again."
      ]
    },
    {
      "cell_type": "markdown",
      "metadata": {
        "id": "jmY8n0l8fED5"
      },
      "source": [
        "### Dataset upload\n",
        "\n"
      ]
    },
    {
      "cell_type": "code",
      "source": [
        "import numpy as np\n",
        "\n",
        "x_train = np.load('kmnist-train-imgs.npz')['arr_0']\n",
        "y_train = np.load('kmnist-train-labels.npz')['arr_0']\n",
        "x_test = np.load('kmnist-test-imgs.npz')['arr_0']\n",
        "y_test = np.load('kmnist-test-labels.npz')['arr_0']\n",
        "\n",
        "#Now the arrays are 60.000 images 28x28. We want it to be 60.000 x 784.\n",
        "\n",
        "#x_train = X_train.reshape(X_train.shape[0], -1)\n",
        "#x_test = X_test.reshape(X_test.shape[0], -1)\n",
        "\n",
        "#Xtrain = np.file(\"kminst-train-imgs.npz\")\n",
        "#Ytrain = np.file(\"kmnist-train-labels.npz\")\n",
        "#Xtest = \"kmnist-test-imgs.npz\"\n",
        "#Ytest = \"kmnist-test-labels.npz\"\n",
        "\n",
        "#print(X_train.shape, X_test.shape)\n",
        "print(x_train.shape,y_train.shape)\n",
        "print(x_test.shape, y_test.shape)"
      ],
      "metadata": {
        "colab": {
          "base_uri": "https://localhost:8080/"
        },
        "id": "3M8YuATFkMG5",
        "outputId": "531c5929-6adb-463d-89c1-343e1cfc67ca"
      },
      "execution_count": null,
      "outputs": [
        {
          "output_type": "stream",
          "name": "stdout",
          "text": [
            "(60000, 28, 28) (60000,)\n",
            "(10000, 28, 28) (10000,)\n"
          ]
        }
      ]
    },
    {
      "cell_type": "markdown",
      "metadata": {
        "id": "P1WOjsZZjXZB"
      },
      "source": [
        "Define a human-readable description of labels:"
      ]
    },
    {
      "cell_type": "code",
      "metadata": {
        "id": "7F689OVlruxj"
      },
      "source": [
        "# Define the text labels\n",
        "k_mnist_labels = [\"O\",  # index 0\n",
        "                        \"KI\",      # index 1\n",
        "                        \"SU\",     # index 2\n",
        "                        \"TSU\",        # index 3\n",
        "                        \"NA\",         # index 4\n",
        "                        \"HA\",       # index 5\n",
        "                        \"MA\",        # index 6\n",
        "                        \"YA\",      # index 7\n",
        "                        \"RE\",          # index 8\n",
        "                        \"WO\"]   # index 9"
      ],
      "execution_count": null,
      "outputs": []
    },
    {
      "cell_type": "markdown",
      "metadata": {
        "id": "2z0qJNibjjLZ"
      },
      "source": [
        "### Visualize images\n",
        "Select an image index in the cell below and repeat execution:"
      ]
    },
    {
      "cell_type": "code",
      "metadata": {
        "id": "8oeTaEiie1G6",
        "colab": {
          "base_uri": "https://localhost:8080/",
          "height": 465
        },
        "outputId": "5d2ddc33-e0b3-487d-a14e-e0e01a588496"
      },
      "source": [
        "# Image index: pick any number between 0 and 59999\n",
        "img_index = 256\n",
        "label_index = y_train[img_index]\n",
        "\n",
        "print(\"Image {} (label {}: {})\".format(img_index, label_index, k_mnist_labels[label_index]))\n",
        "# Show one of the images from the training dataset\n",
        "plt.imshow(x_train[img_index], cmap='gray')"
      ],
      "execution_count": null,
      "outputs": [
        {
          "output_type": "stream",
          "name": "stdout",
          "text": [
            "Image 256 (label 5: HA)\n"
          ]
        },
        {
          "output_type": "execute_result",
          "data": {
            "text/plain": [
              "<matplotlib.image.AxesImage at 0x7f98e6d69ba0>"
            ]
          },
          "metadata": {},
          "execution_count": 12
        },
        {
          "output_type": "display_data",
          "data": {
            "text/plain": [
              "<Figure size 640x480 with 1 Axes>"
            ],
            "image/png": "[encoded data removed]"
          },
          "metadata": {}
        }
      ]
    },
    {
      "cell_type": "markdown",
      "metadata": {
        "id": "kXE3XOIlfeya"
      },
      "source": [
        "### Data preparation\n",
        "\n",
        "Normalize images (do NOT flatten them):"
      ]
    },
    {
      "cell_type": "code",
      "metadata": {
        "id": "xTAl98rvQJ_w",
        "colab": {
          "base_uri": "https://localhost:8080/"
        },
        "outputId": "cb2ff7e7-faba-4d32-973f-10eb576e6644"
      },
      "source": [
        "# Normalize pixel values\n",
        "x_train_prep, x_test_prep = x_train/255., x_test/255.\n",
        "\n",
        "print()\n",
        "print(\"x_train_prep is of type {} with shape {} and dtype {}\".format(type(x_train_prep), x_train_prep.shape, x_train_prep.dtype))\n",
        "print(\"x_test_prep is of type {} with shape {} and dtype {}\".format(type(x_test_prep), x_test_prep.shape, x_test_prep.dtype))"
      ],
      "execution_count": null,
      "outputs": [
        {
          "output_type": "stream",
          "name": "stdout",
          "text": [
            "\n",
            "x_train_prep is of type <class 'numpy.ndarray'> with shape (60000, 28, 28) and dtype float64\n",
            "x_test_prep is of type <class 'numpy.ndarray'> with shape (10000, 28, 28) and dtype float64\n"
          ]
        }
      ]
    },
    {
      "cell_type": "markdown",
      "metadata": {
        "id": "i1xidCYe6PDr"
      },
      "source": [
        "Split train dataset into *train* and *validation* slices, using the first 5000 images for validation:"
      ]
    },
    {
      "cell_type": "code",
      "metadata": {
        "id": "Bi2ga3h26XZO",
        "colab": {
          "base_uri": "https://localhost:8080/"
        },
        "outputId": "c58225b4-04c8-42ea-f974-75c4f049f145"
      },
      "source": [
        "(x_train_prep, x_valid_prep) = x_train_prep[5000:], x_train_prep[:5000]\n",
        "(y_train, y_valid) = y_train[5000:], y_train[:5000]\n",
        "\n",
        "print()\n",
        "print(\"x_train_prep is of type {} with shape {} and dtype {}\".format(type(x_train_prep), x_train_prep.shape, x_train_prep.dtype))\n",
        "print(\"x_valid_prep is of type {} with shape {} and dtype {}\".format(type(x_valid_prep), x_valid_prep.shape, x_valid_prep.dtype))"
      ],
      "execution_count": null,
      "outputs": [
        {
          "output_type": "stream",
          "name": "stdout",
          "text": [
            "\n",
            "x_train_prep is of type <class 'numpy.ndarray'> with shape (55000, 28, 28) and dtype float64\n",
            "x_valid_prep is of type <class 'numpy.ndarray'> with shape (5000, 28, 28) and dtype float64\n"
          ]
        }
      ]
    },
    {
      "cell_type": "markdown",
      "metadata": {
        "id": "aZu--Bhp8C7A"
      },
      "source": [
        "Reshape all images (without flattening) and add one dimension to the tensor (the latter dimension is called *channel* in image processing):"
      ]
    },
    {
      "cell_type": "code",
      "metadata": {
        "id": "YiPLOvfX8TQj",
        "colab": {
          "base_uri": "https://localhost:8080/"
        },
        "outputId": "f0819020-969e-48ed-938b-531c2c08e610"
      },
      "source": [
        "w, h = 28, 28\n",
        "x_train_prep = x_train_prep.reshape(x_train_prep.shape[0], w, h, 1)\n",
        "x_valid_prep = x_valid_prep.reshape(x_valid_prep.shape[0], w, h, 1)\n",
        "x_test_prep = x_test_prep.reshape(x_test.shape[0], w, h, 1)\n",
        "\n",
        "print()\n",
        "print(\"x_train_prep is of type {} with shape {} and dtype {}\".format(type(x_train_prep), x_train_prep.shape, x_train_prep.dtype))\n",
        "print(\"x_valid_prep is of type {} with shape {} and dtype {}\".format(type(x_valid_prep), x_valid_prep.shape, x_valid_prep.dtype))\n",
        "print(\"x_test_prep is of type {} with shape {} and dtype {}\".format(type(x_test_prep), x_test_prep.shape, x_test_prep.dtype))"
      ],
      "execution_count": null,
      "outputs": [
        {
          "output_type": "stream",
          "name": "stdout",
          "text": [
            "\n",
            "x_train_prep is of type <class 'numpy.ndarray'> with shape (55000, 28, 28, 1) and dtype float64\n",
            "x_valid_prep is of type <class 'numpy.ndarray'> with shape (5000, 28, 28, 1) and dtype float64\n",
            "x_test_prep is of type <class 'numpy.ndarray'> with shape (10000, 28, 28, 1) and dtype float64\n"
          ]
        }
      ]
    },
    {
      "cell_type": "markdown",
      "metadata": {
        "id": "4ZwMLZ4w7Z7a"
      },
      "source": [
        "Transform all labels into one-hot encoding:"
      ]
    },
    {
      "cell_type": "code",
      "metadata": {
        "id": "0lJn3sOZ7g4p",
        "colab": {
          "base_uri": "https://localhost:8080/"
        },
        "outputId": "a456036a-ed23-4253-a399-4c708b5f8fb4"
      },
      "source": [
        "y_train = tf.keras.utils.to_categorical(y_train, 10)\n",
        "y_valid = tf.keras.utils.to_categorical(y_valid, 10)\n",
        "y_test = tf.keras.utils.to_categorical(y_test, 10)\n",
        "\n",
        "print()\n",
        "print(\"y_train is of type {} with shape {} and dtype {}\".format(type(y_train), y_train.shape, y_train.dtype))\n",
        "print(\"y_valid is of type {} with shape {} and dtype {}\".format(type(y_valid), y_valid.shape, y_valid.dtype))\n",
        "print(\"y_test is of type {} with shape {} and dtype {}\".format(type(y_test), y_test.shape, y_test.dtype))"
      ],
      "execution_count": null,
      "outputs": [
        {
          "output_type": "stream",
          "name": "stdout",
          "text": [
            "\n",
            "y_train is of type <class 'numpy.ndarray'> with shape (55000, 10) and dtype float64\n",
            "y_valid is of type <class 'numpy.ndarray'> with shape (5000, 10) and dtype float64\n",
            "y_test is of type <class 'numpy.ndarray'> with shape (10000, 10) and dtype float64\n"
          ]
        }
      ]
    },
    {
      "cell_type": "markdown",
      "source": [
        "##Training\n"
      ],
      "metadata": {
        "id": "jgM94F0iHXAE"
      }
    },
    {
      "cell_type": "markdown",
      "metadata": {
        "id": "trMemrXwYdfp"
      },
      "source": [
        "### Representation: Deep Convolutional Network (DCNN) architecture"
      ]
    },
    {
      "cell_type": "markdown",
      "metadata": {
        "id": "rw-x_04Za8Ec"
      },
      "source": [
        "Define a _Deep Convolutional Neural Network_ (DCNN) using standard Keras layers:"
      ]
    },
    {
      "cell_type": "code",
      "metadata": {
        "id": "LfbMCSKHaziV",
        "colab": {
          "base_uri": "https://localhost:8080/",
          "height": 504
        },
        "outputId": "1540f4b6-8b60-4235-d0f7-13f2d165e675"
      },
      "source": [
        "model = tf.keras.Sequential()\n",
        "\n",
        "# The shape in the first layer must be defined explicitly, other ones will be inferred\n",
        "model.add(tf.keras.layers.Conv2D(filters=64, kernel_size=2, padding='same', activation='relu', input_shape=(28,28,1)))\n",
        "#padding chooses the correct stride size autonomously\n",
        "#kernel size is chosen once and keras automatically knows with 1 input he has to do a nxn matrix\n",
        "#activation is the activation function\n",
        "#input is (28,28,1) but the output will be (28,28,64) where the last value is the number of filters\n",
        "model.add(tf.keras.layers.MaxPooling2D(pool_size=2))\n",
        "#Downsamples the input along its spatial dimensions (height and width) by\n",
        "#taking the maximum value over an input window (of size defined by pool_size) for each channel of the input.\n",
        "#The window is shifted by strides along each dimension.\n",
        "model.add(tf.keras.layers.Dropout(0.3))\n",
        "#The Dropout layer randomly sets input units to 0 with a frequency of rate at each step during training time, which helps prevent overfitting\n",
        "#It says that 0.3 are erased (set to 0) RANDOMLY\n",
        "\n",
        "model.add(tf.keras.layers.Conv2D(filters=32, kernel_size=2, padding='same', activation='relu'))\n",
        "model.add(tf.keras.layers.MaxPooling2D(pool_size=2))\n",
        "model.add(tf.keras.layers.Dropout(0.3))\n",
        "\n",
        "model.add(tf.keras.layers.Flatten())\n",
        "model.add(tf.keras.layers.Dense(256, activation='relu'))\n",
        "model.add(tf.keras.layers.Dropout(0.5))\n",
        "model.add(tf.keras.layers.Dense(10, activation='softmax')) #I always have to choose this number equal to my number of classes,\n",
        "#he will give me back the probability of each element to be in that class\n",
        "#Dense implements the operation: output = activation(dot(input, kernel) + bias)\n",
        "#where activation is the element-wise activation function passed as the activation argument\n",
        "\n",
        "\n",
        "# Take a look at the model summary\n",
        "model.summary()"
      ],
      "execution_count": null,
      "outputs": [
        {
          "output_type": "stream",
          "name": "stderr",
          "text": [
            "/usr/local/lib/python3.10/dist-packages/keras/src/layers/convolutional/base_conv.py:107: UserWarning: Do not pass an `input_shape`/`input_dim` argument to a layer. When using Sequential models, prefer using an `Input(shape)` object as the first layer in the model instead.\n",
            "  super().__init__(activity_regularizer=activity_regularizer, **kwargs)\n"
          ]
        },
        {
          "output_type": "display_data",
          "data": {
            "text/plain": [
              "\u001b[1mModel: \"sequential\"\u001b[0m\n"
            ],
            "text/html": [
              "<pre style=\"white-space:pre;overflow-x:auto;line-height:normal;font-family:Menlo,'DejaVu Sans Mono',consolas,'Courier New',monospace\"><span style=\"font-weight: bold\">Model: \"sequential\"</span>\n",
              "</pre>\n"
            ]
          },
          "metadata": {}
        },
        {
          "output_type": "display_data",
          "data": {
            "text/plain": [
              "┏━━━━━━━━━━━━━━━━━━━━━━━━━━━━━━━━━━━━━━┳━━━━━━━━━━━━━━━━━━━━━━━━━━━━━┳━━━━━━━━━━━━━━━━━┓\n",
              "┃\u001b[1m \u001b[0m\u001b[1mLayer (type)                        \u001b[0m\u001b[1m \u001b[0m┃\u001b[1m \u001b[0m\u001b[1mOutput Shape               \u001b[0m\u001b[1m \u001b[0m┃\u001b[1m \u001b[0m\u001b[1m        Param #\u001b[0m\u001b[1m \u001b[0m┃\n",
              "┡━━━━━━━━━━━━━━━━━━━━━━━━━━━━━━━━━━━━━━╇━━━━━━━━━━━━━━━━━━━━━━━━━━━━━╇━━━━━━━━━━━━━━━━━┩\n",
              "│ conv2d (\u001b[38;5;33mConv2D\u001b[0m)                      │ (\u001b[38;5;45mNone\u001b[0m, \u001b[38;5;34m28\u001b[0m, \u001b[38;5;34m28\u001b[0m, \u001b[38;5;34m64\u001b[0m)          │             \u001b[38;5;34m320\u001b[0m │\n",
              "├──────────────────────────────────────┼─────────────────────────────┼─────────────────┤\n",
              "│ max_pooling2d (\u001b[38;5;33mMaxPooling2D\u001b[0m)         │ (\u001b[38;5;45mNone\u001b[0m, \u001b[38;5;34m14\u001b[0m, \u001b[38;5;34m14\u001b[0m, \u001b[38;5;34m64\u001b[0m)          │               \u001b[38;5;34m0\u001b[0m │\n",
              "├──────────────────────────────────────┼─────────────────────────────┼─────────────────┤\n",
              "│ dropout (\u001b[38;5;33mDropout\u001b[0m)                    │ (\u001b[38;5;45mNone\u001b[0m, \u001b[38;5;34m14\u001b[0m, \u001b[38;5;34m14\u001b[0m, \u001b[38;5;34m64\u001b[0m)          │               \u001b[38;5;34m0\u001b[0m │\n",
              "├──────────────────────────────────────┼─────────────────────────────┼─────────────────┤\n",
              "│ conv2d_1 (\u001b[38;5;33mConv2D\u001b[0m)                    │ (\u001b[38;5;45mNone\u001b[0m, \u001b[38;5;34m14\u001b[0m, \u001b[38;5;34m14\u001b[0m, \u001b[38;5;34m32\u001b[0m)          │           \u001b[38;5;34m8,224\u001b[0m │\n",
              "├──────────────────────────────────────┼─────────────────────────────┼─────────────────┤\n",
              "│ max_pooling2d_1 (\u001b[38;5;33mMaxPooling2D\u001b[0m)       │ (\u001b[38;5;45mNone\u001b[0m, \u001b[38;5;34m7\u001b[0m, \u001b[38;5;34m7\u001b[0m, \u001b[38;5;34m32\u001b[0m)            │               \u001b[38;5;34m0\u001b[0m │\n",
              "├──────────────────────────────────────┼─────────────────────────────┼─────────────────┤\n",
              "│ dropout_1 (\u001b[38;5;33mDropout\u001b[0m)                  │ (\u001b[38;5;45mNone\u001b[0m, \u001b[38;5;34m7\u001b[0m, \u001b[38;5;34m7\u001b[0m, \u001b[38;5;34m32\u001b[0m)            │               \u001b[38;5;34m0\u001b[0m │\n",
              "├──────────────────────────────────────┼─────────────────────────────┼─────────────────┤\n",
              "│ flatten (\u001b[38;5;33mFlatten\u001b[0m)                    │ (\u001b[38;5;45mNone\u001b[0m, \u001b[38;5;34m1568\u001b[0m)                │               \u001b[38;5;34m0\u001b[0m │\n",
              "├──────────────────────────────────────┼─────────────────────────────┼─────────────────┤\n",
              "│ dense (\u001b[38;5;33mDense\u001b[0m)                        │ (\u001b[38;5;45mNone\u001b[0m, \u001b[38;5;34m256\u001b[0m)                 │         \u001b[38;5;34m401,664\u001b[0m │\n",
              "├──────────────────────────────────────┼─────────────────────────────┼─────────────────┤\n",
              "│ dropout_2 (\u001b[38;5;33mDropout\u001b[0m)                  │ (\u001b[38;5;45mNone\u001b[0m, \u001b[38;5;34m256\u001b[0m)                 │               \u001b[38;5;34m0\u001b[0m │\n",
              "├──────────────────────────────────────┼─────────────────────────────┼─────────────────┤\n",
              "│ dense_1 (\u001b[38;5;33mDense\u001b[0m)                      │ (\u001b[38;5;45mNone\u001b[0m, \u001b[38;5;34m10\u001b[0m)                  │           \u001b[38;5;34m2,570\u001b[0m │\n",
              "└──────────────────────────────────────┴─────────────────────────────┴─────────────────┘\n"
            ],
            "text/html": [
              "<pre style=\"white-space:pre;overflow-x:auto;line-height:normal;font-family:Menlo,'DejaVu Sans Mono',consolas,'Courier New',monospace\">┏━━━━━━━━━━━━━━━━━━━━━━━━━━━━━━━━━━━━━━┳━━━━━━━━━━━━━━━━━━━━━━━━━━━━━┳━━━━━━━━━━━━━━━━━┓\n",
              "┃<span style=\"font-weight: bold\"> Layer (type)                         </span>┃<span style=\"font-weight: bold\"> Output Shape                </span>┃<span style=\"font-weight: bold\">         Param # </span>┃\n",
              "┡━━━━━━━━━━━━━━━━━━━━━━━━━━━━━━━━━━━━━━╇━━━━━━━━━━━━━━━━━━━━━━━━━━━━━╇━━━━━━━━━━━━━━━━━┩\n",
              "│ conv2d (<span style=\"color: #0087ff; text-decoration-color: #0087ff\">Conv2D</span>)                      │ (<span style=\"color: #00d7ff; text-decoration-color: #00d7ff\">None</span>, <span style=\"color: #00af00; text-decoration-color: #00af00\">28</span>, <span style=\"color: #00af00; text-decoration-color: #00af00\">28</span>, <span style=\"color: #00af00; text-decoration-color: #00af00\">64</span>)          │             <span style=\"color: #00af00; text-decoration-color: #00af00\">320</span> │\n",
              "├──────────────────────────────────────┼─────────────────────────────┼─────────────────┤\n",
              "│ max_pooling2d (<span style=\"color: #0087ff; text-decoration-color: #0087ff\">MaxPooling2D</span>)         │ (<span style=\"color: #00d7ff; text-decoration-color: #00d7ff\">None</span>, <span style=\"color: #00af00; text-decoration-color: #00af00\">14</span>, <span style=\"color: #00af00; text-decoration-color: #00af00\">14</span>, <span style=\"color: #00af00; text-decoration-color: #00af00\">64</span>)          │               <span style=\"color: #00af00; text-decoration-color: #00af00\">0</span> │\n",
              "├──────────────────────────────────────┼─────────────────────────────┼─────────────────┤\n",
              "│ dropout (<span style=\"color: #0087ff; text-decoration-color: #0087ff\">Dropout</span>)                    │ (<span style=\"color: #00d7ff; text-decoration-color: #00d7ff\">None</span>, <span style=\"color: #00af00; text-decoration-color: #00af00\">14</span>, <span style=\"color: #00af00; text-decoration-color: #00af00\">14</span>, <span style=\"color: #00af00; text-decoration-color: #00af00\">64</span>)          │               <span style=\"color: #00af00; text-decoration-color: #00af00\">0</span> │\n",
              "├──────────────────────────────────────┼─────────────────────────────┼─────────────────┤\n",
              "│ conv2d_1 (<span style=\"color: #0087ff; text-decoration-color: #0087ff\">Conv2D</span>)                    │ (<span style=\"color: #00d7ff; text-decoration-color: #00d7ff\">None</span>, <span style=\"color: #00af00; text-decoration-color: #00af00\">14</span>, <span style=\"color: #00af00; text-decoration-color: #00af00\">14</span>, <span style=\"color: #00af00; text-decoration-color: #00af00\">32</span>)          │           <span style=\"color: #00af00; text-decoration-color: #00af00\">8,224</span> │\n",
              "├──────────────────────────────────────┼─────────────────────────────┼─────────────────┤\n",
              "│ max_pooling2d_1 (<span style=\"color: #0087ff; text-decoration-color: #0087ff\">MaxPooling2D</span>)       │ (<span style=\"color: #00d7ff; text-decoration-color: #00d7ff\">None</span>, <span style=\"color: #00af00; text-decoration-color: #00af00\">7</span>, <span style=\"color: #00af00; text-decoration-color: #00af00\">7</span>, <span style=\"color: #00af00; text-decoration-color: #00af00\">32</span>)            │               <span style=\"color: #00af00; text-decoration-color: #00af00\">0</span> │\n",
              "├──────────────────────────────────────┼─────────────────────────────┼─────────────────┤\n",
              "│ dropout_1 (<span style=\"color: #0087ff; text-decoration-color: #0087ff\">Dropout</span>)                  │ (<span style=\"color: #00d7ff; text-decoration-color: #00d7ff\">None</span>, <span style=\"color: #00af00; text-decoration-color: #00af00\">7</span>, <span style=\"color: #00af00; text-decoration-color: #00af00\">7</span>, <span style=\"color: #00af00; text-decoration-color: #00af00\">32</span>)            │               <span style=\"color: #00af00; text-decoration-color: #00af00\">0</span> │\n",
              "├──────────────────────────────────────┼─────────────────────────────┼─────────────────┤\n",
              "│ flatten (<span style=\"color: #0087ff; text-decoration-color: #0087ff\">Flatten</span>)                    │ (<span style=\"color: #00d7ff; text-decoration-color: #00d7ff\">None</span>, <span style=\"color: #00af00; text-decoration-color: #00af00\">1568</span>)                │               <span style=\"color: #00af00; text-decoration-color: #00af00\">0</span> │\n",
              "├──────────────────────────────────────┼─────────────────────────────┼─────────────────┤\n",
              "│ dense (<span style=\"color: #0087ff; text-decoration-color: #0087ff\">Dense</span>)                        │ (<span style=\"color: #00d7ff; text-decoration-color: #00d7ff\">None</span>, <span style=\"color: #00af00; text-decoration-color: #00af00\">256</span>)                 │         <span style=\"color: #00af00; text-decoration-color: #00af00\">401,664</span> │\n",
              "├──────────────────────────────────────┼─────────────────────────────┼─────────────────┤\n",
              "│ dropout_2 (<span style=\"color: #0087ff; text-decoration-color: #0087ff\">Dropout</span>)                  │ (<span style=\"color: #00d7ff; text-decoration-color: #00d7ff\">None</span>, <span style=\"color: #00af00; text-decoration-color: #00af00\">256</span>)                 │               <span style=\"color: #00af00; text-decoration-color: #00af00\">0</span> │\n",
              "├──────────────────────────────────────┼─────────────────────────────┼─────────────────┤\n",
              "│ dense_1 (<span style=\"color: #0087ff; text-decoration-color: #0087ff\">Dense</span>)                      │ (<span style=\"color: #00d7ff; text-decoration-color: #00d7ff\">None</span>, <span style=\"color: #00af00; text-decoration-color: #00af00\">10</span>)                  │           <span style=\"color: #00af00; text-decoration-color: #00af00\">2,570</span> │\n",
              "└──────────────────────────────────────┴─────────────────────────────┴─────────────────┘\n",
              "</pre>\n"
            ]
          },
          "metadata": {}
        },
        {
          "output_type": "display_data",
          "data": {
            "text/plain": [
              "\u001b[1m Total params: \u001b[0m\u001b[38;5;34m412,778\u001b[0m (1.57 MB)\n"
            ],
            "text/html": [
              "<pre style=\"white-space:pre;overflow-x:auto;line-height:normal;font-family:Menlo,'DejaVu Sans Mono',consolas,'Courier New',monospace\"><span style=\"font-weight: bold\"> Total params: </span><span style=\"color: #00af00; text-decoration-color: #00af00\">412,778</span> (1.57 MB)\n",
              "</pre>\n"
            ]
          },
          "metadata": {}
        },
        {
          "output_type": "display_data",
          "data": {
            "text/plain": [
              "\u001b[1m Trainable params: \u001b[0m\u001b[38;5;34m412,778\u001b[0m (1.57 MB)\n"
            ],
            "text/html": [
              "<pre style=\"white-space:pre;overflow-x:auto;line-height:normal;font-family:Menlo,'DejaVu Sans Mono',consolas,'Courier New',monospace\"><span style=\"font-weight: bold\"> Trainable params: </span><span style=\"color: #00af00; text-decoration-color: #00af00\">412,778</span> (1.57 MB)\n",
              "</pre>\n"
            ]
          },
          "metadata": {}
        },
        {
          "output_type": "display_data",
          "data": {
            "text/plain": [
              "\u001b[1m Non-trainable params: \u001b[0m\u001b[38;5;34m0\u001b[0m (0.00 B)\n"
            ],
            "text/html": [
              "<pre style=\"white-space:pre;overflow-x:auto;line-height:normal;font-family:Menlo,'DejaVu Sans Mono',consolas,'Courier New',monospace\"><span style=\"font-weight: bold\"> Non-trainable params: </span><span style=\"color: #00af00; text-decoration-color: #00af00\">0</span> (0.00 B)\n",
              "</pre>\n"
            ]
          },
          "metadata": {}
        }
      ]
    },
    {
      "cell_type": "markdown",
      "source": [
        "Number of parameters\n",
        "\n",
        "Parameters = (shape of width of the filter * shape of height of the filter * number of filters in the previous layer+1)*number of filters\n",
        "\n",
        "For instance, 1st case \\\\\n",
        "(2x2x1)x64 = 320 \\\\\n",
        "2nd case \\\\\n",
        "(2x2x64=1)x32 = 8224 \\\\"
      ],
      "metadata": {
        "id": "Q0nF0l84kZCf"
      }
    },
    {
      "cell_type": "markdown",
      "metadata": {
        "id": "_esTGbWhnsC3"
      },
      "source": [
        "### Evaluation and Optimizer"
      ]
    },
    {
      "cell_type": "markdown",
      "metadata": {
        "id": "IuCd5gSh9QNY"
      },
      "source": [
        "Ensure reprodcibility of random operations:\n"
      ]
    },
    {
      "cell_type": "code",
      "metadata": {
        "id": "85tjUpnhLQg8"
      },
      "source": [
        "np.random.seed(12345)\n",
        "\n",
        "tf.random.set_seed(12345)"
      ],
      "execution_count": null,
      "outputs": []
    },
    {
      "cell_type": "markdown",
      "metadata": {
        "id": "nnfoasU0QSES"
      },
      "source": [
        "Use categorical cross-entropy (CE) as the loss function and accuracy as the result metrics.\n",
        "\n",
        "Use the `Adam` optimizer:"
      ]
    },
    {
      "cell_type": "code",
      "metadata": {
        "id": "kl4oCGPtnsee"
      },
      "source": [
        "model.compile(loss='categorical_crossentropy',\n",
        "             optimizer='adam',\n",
        "             metrics=['accuracy'])"
      ],
      "execution_count": null,
      "outputs": []
    },
    {
      "cell_type": "markdown",
      "metadata": {
        "id": "qG1ciaiVZGT-"
      },
      "source": [
        "### Optimization: Mini-Batch Gradient Descent (augmented)\n",
        "\n"
      ]
    },
    {
      "cell_type": "markdown",
      "metadata": {
        "id": "nJrhFnoiQwE_"
      },
      "source": [
        "A `ModelCheckpoint` is a typical Keras construct (see [here](https://www.tensorflow.org/api_docs/python/tf/keras/callbacks/ModelCheckpoint)):"
      ]
    },
    {
      "cell_type": "markdown",
      "metadata": {
        "id": "Ju7OU5yHRJPH"
      },
      "source": [
        "This is the standard way in Keras for performing the training (i.e. optimization) process.\n",
        "\n",
        "See [this guide](https://www.tensorflow.org/guide/keras/train_and_evaluate) for further information."
      ]
    },
    {
      "cell_type": "code",
      "metadata": {
        "id": "6pc_GMz2-SR8",
        "colab": {
          "base_uri": "https://localhost:8080/"
        },
        "outputId": "e9979830-46d4-45c5-e409-a381de434a97"
      },
      "source": [
        "batch_size = 256\n",
        "epochs = 50\n",
        "\n",
        "model.fit(x_train_prep,\n",
        "         y_train,\n",
        "         batch_size=batch_size,\n",
        "         epochs=epochs,\n",
        "         validation_data=(x_valid_prep, y_valid),\n",
        "         #callbacks=[checkpointer]\n",
        "         )"
      ],
      "execution_count": null,
      "outputs": [
        {
          "output_type": "stream",
          "name": "stdout",
          "text": [
            "Epoch 1/50\n",
            "\u001b[1m215/215\u001b[0m \u001b[32m━━━━━━━━━━━━━━━━━━━━\u001b[0m\u001b[37m\u001b[0m \u001b[1m11s\u001b[0m 25ms/step - accuracy: 0.6464 - loss: 1.0848 - val_accuracy: 0.9192 - val_loss: 0.2794\n",
            "Epoch 2/50\n",
            "\u001b[1m215/215\u001b[0m \u001b[32m━━━━━━━━━━━━━━━━━━━━\u001b[0m\u001b[37m\u001b[0m \u001b[1m2s\u001b[0m 7ms/step - accuracy: 0.8943 - loss: 0.3417 - val_accuracy: 0.9516 - val_loss: 0.1722\n",
            "Epoch 3/50\n",
            "\u001b[1m215/215\u001b[0m \u001b[32m━━━━━━━━━━━━━━━━━━━━\u001b[0m\u001b[37m\u001b[0m \u001b[1m2s\u001b[0m 8ms/step - accuracy: 0.9262 - loss: 0.2408 - val_accuracy: 0.9646 - val_loss: 0.1237\n",
            "Epoch 4/50\n",
            "\u001b[1m215/215\u001b[0m \u001b[32m━━━━━━━━━━━━━━━━━━━━\u001b[0m\u001b[37m\u001b[0m \u001b[1m2s\u001b[0m 8ms/step - accuracy: 0.9424 - loss: 0.1854 - val_accuracy: 0.9696 - val_loss: 0.1023\n",
            "Epoch 5/50\n",
            "\u001b[1m215/215\u001b[0m \u001b[32m━━━━━━━━━━━━━━━━━━━━\u001b[0m\u001b[37m\u001b[0m \u001b[1m2s\u001b[0m 7ms/step - accuracy: 0.9524 - loss: 0.1572 - val_accuracy: 0.9766 - val_loss: 0.0880\n",
            "Epoch 6/50\n",
            "\u001b[1m215/215\u001b[0m \u001b[32m━━━━━━━━━━━━━━━━━━━━\u001b[0m\u001b[37m\u001b[0m \u001b[1m2s\u001b[0m 7ms/step - accuracy: 0.9558 - loss: 0.1414 - val_accuracy: 0.9774 - val_loss: 0.0783\n",
            "Epoch 7/50\n",
            "\u001b[1m215/215\u001b[0m \u001b[32m━━━━━━━━━━━━━━━━━━━━\u001b[0m\u001b[37m\u001b[0m \u001b[1m2s\u001b[0m 7ms/step - accuracy: 0.9626 - loss: 0.1226 - val_accuracy: 0.9778 - val_loss: 0.0731\n",
            "Epoch 8/50\n",
            "\u001b[1m215/215\u001b[0m \u001b[32m━━━━━━━━━━━━━━━━━━━━\u001b[0m\u001b[37m\u001b[0m \u001b[1m2s\u001b[0m 7ms/step - accuracy: 0.9631 - loss: 0.1184 - val_accuracy: 0.9802 - val_loss: 0.0687\n",
            "Epoch 9/50\n",
            "\u001b[1m215/215\u001b[0m \u001b[32m━━━━━━━━━━━━━━━━━━━━\u001b[0m\u001b[37m\u001b[0m \u001b[1m3s\u001b[0m 7ms/step - accuracy: 0.9681 - loss: 0.1027 - val_accuracy: 0.9808 - val_loss: 0.0631\n",
            "Epoch 10/50\n",
            "\u001b[1m215/215\u001b[0m \u001b[32m━━━━━━━━━━━━━━━━━━━━\u001b[0m\u001b[37m\u001b[0m \u001b[1m3s\u001b[0m 8ms/step - accuracy: 0.9683 - loss: 0.0993 - val_accuracy: 0.9842 - val_loss: 0.0616\n",
            "Epoch 11/50\n",
            "\u001b[1m215/215\u001b[0m \u001b[32m━━━━━━━━━━━━━━━━━━━━\u001b[0m\u001b[37m\u001b[0m \u001b[1m2s\u001b[0m 7ms/step - accuracy: 0.9715 - loss: 0.0889 - val_accuracy: 0.9826 - val_loss: 0.0594\n",
            "Epoch 12/50\n",
            "\u001b[1m215/215\u001b[0m \u001b[32m━━━━━━━━━━━━━━━━━━━━\u001b[0m\u001b[37m\u001b[0m \u001b[1m2s\u001b[0m 7ms/step - accuracy: 0.9724 - loss: 0.0857 - val_accuracy: 0.9840 - val_loss: 0.0576\n",
            "Epoch 13/50\n",
            "\u001b[1m215/215\u001b[0m \u001b[32m━━━━━━━━━━━━━━━━━━━━\u001b[0m\u001b[37m\u001b[0m \u001b[1m2s\u001b[0m 7ms/step - accuracy: 0.9742 - loss: 0.0804 - val_accuracy: 0.9850 - val_loss: 0.0565\n",
            "Epoch 14/50\n",
            "\u001b[1m215/215\u001b[0m \u001b[32m━━━━━━━━━━━━━━━━━━━━\u001b[0m\u001b[37m\u001b[0m \u001b[1m3s\u001b[0m 7ms/step - accuracy: 0.9753 - loss: 0.0778 - val_accuracy: 0.9834 - val_loss: 0.0557\n",
            "Epoch 15/50\n",
            "\u001b[1m215/215\u001b[0m \u001b[32m━━━━━━━━━━━━━━━━━━━━\u001b[0m\u001b[37m\u001b[0m \u001b[1m3s\u001b[0m 7ms/step - accuracy: 0.9762 - loss: 0.0714 - val_accuracy: 0.9826 - val_loss: 0.0575\n",
            "Epoch 16/50\n",
            "\u001b[1m215/215\u001b[0m \u001b[32m━━━━━━━━━━━━━━━━━━━━\u001b[0m\u001b[37m\u001b[0m \u001b[1m3s\u001b[0m 8ms/step - accuracy: 0.9781 - loss: 0.0688 - val_accuracy: 0.9820 - val_loss: 0.0557\n",
            "Epoch 17/50\n",
            "\u001b[1m215/215\u001b[0m \u001b[32m━━━━━━━━━━━━━━━━━━━━\u001b[0m\u001b[37m\u001b[0m \u001b[1m2s\u001b[0m 7ms/step - accuracy: 0.9782 - loss: 0.0678 - val_accuracy: 0.9846 - val_loss: 0.0525\n",
            "Epoch 18/50\n",
            "\u001b[1m215/215\u001b[0m \u001b[32m━━━━━━━━━━━━━━━━━━━━\u001b[0m\u001b[37m\u001b[0m \u001b[1m2s\u001b[0m 7ms/step - accuracy: 0.9796 - loss: 0.0655 - val_accuracy: 0.9852 - val_loss: 0.0516\n",
            "Epoch 19/50\n",
            "\u001b[1m215/215\u001b[0m \u001b[32m━━━━━━━━━━━━━━━━━━━━\u001b[0m\u001b[37m\u001b[0m \u001b[1m2s\u001b[0m 7ms/step - accuracy: 0.9798 - loss: 0.0622 - val_accuracy: 0.9866 - val_loss: 0.0492\n",
            "Epoch 20/50\n",
            "\u001b[1m215/215\u001b[0m \u001b[32m━━━━━━━━━━━━━━━━━━━━\u001b[0m\u001b[37m\u001b[0m \u001b[1m2s\u001b[0m 7ms/step - accuracy: 0.9798 - loss: 0.0598 - val_accuracy: 0.9854 - val_loss: 0.0495\n",
            "Epoch 21/50\n",
            "\u001b[1m215/215\u001b[0m \u001b[32m━━━━━━━━━━━━━━━━━━━━\u001b[0m\u001b[37m\u001b[0m \u001b[1m2s\u001b[0m 7ms/step - accuracy: 0.9807 - loss: 0.0586 - val_accuracy: 0.9866 - val_loss: 0.0519\n",
            "Epoch 22/50\n",
            "\u001b[1m215/215\u001b[0m \u001b[32m━━━━━━━━━━━━━━━━━━━━\u001b[0m\u001b[37m\u001b[0m \u001b[1m3s\u001b[0m 8ms/step - accuracy: 0.9816 - loss: 0.0542 - val_accuracy: 0.9862 - val_loss: 0.0491\n",
            "Epoch 23/50\n",
            "\u001b[1m215/215\u001b[0m \u001b[32m━━━━━━━━━━━━━━━━━━━━\u001b[0m\u001b[37m\u001b[0m \u001b[1m2s\u001b[0m 8ms/step - accuracy: 0.9820 - loss: 0.0544 - val_accuracy: 0.9882 - val_loss: 0.0483\n",
            "Epoch 24/50\n",
            "\u001b[1m215/215\u001b[0m \u001b[32m━━━━━━━━━━━━━━━━━━━━\u001b[0m\u001b[37m\u001b[0m \u001b[1m2s\u001b[0m 7ms/step - accuracy: 0.9823 - loss: 0.0529 - val_accuracy: 0.9870 - val_loss: 0.0487\n",
            "Epoch 25/50\n",
            "\u001b[1m215/215\u001b[0m \u001b[32m━━━━━━━━━━━━━━━━━━━━\u001b[0m\u001b[37m\u001b[0m \u001b[1m2s\u001b[0m 7ms/step - accuracy: 0.9816 - loss: 0.0537 - val_accuracy: 0.9860 - val_loss: 0.0474\n",
            "Epoch 26/50\n",
            "\u001b[1m215/215\u001b[0m \u001b[32m━━━━━━━━━━━━━━━━━━━━\u001b[0m\u001b[37m\u001b[0m \u001b[1m2s\u001b[0m 7ms/step - accuracy: 0.9837 - loss: 0.0489 - val_accuracy: 0.9870 - val_loss: 0.0479\n",
            "Epoch 27/50\n",
            "\u001b[1m215/215\u001b[0m \u001b[32m━━━━━━━━━━━━━━━━━━━━\u001b[0m\u001b[37m\u001b[0m \u001b[1m3s\u001b[0m 7ms/step - accuracy: 0.9829 - loss: 0.0491 - val_accuracy: 0.9860 - val_loss: 0.0481\n",
            "Epoch 28/50\n",
            "\u001b[1m215/215\u001b[0m \u001b[32m━━━━━━━━━━━━━━━━━━━━\u001b[0m\u001b[37m\u001b[0m \u001b[1m3s\u001b[0m 8ms/step - accuracy: 0.9846 - loss: 0.0456 - val_accuracy: 0.9872 - val_loss: 0.0467\n",
            "Epoch 29/50\n",
            "\u001b[1m215/215\u001b[0m \u001b[32m━━━━━━━━━━━━━━━━━━━━\u001b[0m\u001b[37m\u001b[0m \u001b[1m2s\u001b[0m 7ms/step - accuracy: 0.9844 - loss: 0.0474 - val_accuracy: 0.9882 - val_loss: 0.0491\n",
            "Epoch 30/50\n",
            "\u001b[1m215/215\u001b[0m \u001b[32m━━━━━━━━━━━━━━━━━━━━\u001b[0m\u001b[37m\u001b[0m \u001b[1m3s\u001b[0m 7ms/step - accuracy: 0.9853 - loss: 0.0445 - val_accuracy: 0.9884 - val_loss: 0.0463\n",
            "Epoch 31/50\n",
            "\u001b[1m215/215\u001b[0m \u001b[32m━━━━━━━━━━━━━━━━━━━━\u001b[0m\u001b[37m\u001b[0m \u001b[1m2s\u001b[0m 7ms/step - accuracy: 0.9852 - loss: 0.0446 - val_accuracy: 0.9866 - val_loss: 0.0505\n",
            "Epoch 32/50\n",
            "\u001b[1m215/215\u001b[0m \u001b[32m━━━━━━━━━━━━━━━━━━━━\u001b[0m\u001b[37m\u001b[0m \u001b[1m3s\u001b[0m 7ms/step - accuracy: 0.9873 - loss: 0.0402 - val_accuracy: 0.9894 - val_loss: 0.0468\n",
            "Epoch 33/50\n",
            "\u001b[1m215/215\u001b[0m \u001b[32m━━━━━━━━━━━━━━━━━━━━\u001b[0m\u001b[37m\u001b[0m \u001b[1m2s\u001b[0m 8ms/step - accuracy: 0.9853 - loss: 0.0430 - val_accuracy: 0.9892 - val_loss: 0.0465\n",
            "Epoch 34/50\n",
            "\u001b[1m215/215\u001b[0m \u001b[32m━━━━━━━━━━━━━━━━━━━━\u001b[0m\u001b[37m\u001b[0m \u001b[1m3s\u001b[0m 8ms/step - accuracy: 0.9864 - loss: 0.0420 - val_accuracy: 0.9884 - val_loss: 0.0477\n",
            "Epoch 35/50\n",
            "\u001b[1m215/215\u001b[0m \u001b[32m━━━━━━━━━━━━━━━━━━━━\u001b[0m\u001b[37m\u001b[0m \u001b[1m2s\u001b[0m 7ms/step - accuracy: 0.9869 - loss: 0.0397 - val_accuracy: 0.9876 - val_loss: 0.0503\n",
            "Epoch 36/50\n",
            "\u001b[1m215/215\u001b[0m \u001b[32m━━━━━━━━━━━━━━━━━━━━\u001b[0m\u001b[37m\u001b[0m \u001b[1m3s\u001b[0m 7ms/step - accuracy: 0.9870 - loss: 0.0391 - val_accuracy: 0.9878 - val_loss: 0.0462\n",
            "Epoch 37/50\n",
            "\u001b[1m215/215\u001b[0m \u001b[32m━━━━━━━━━━━━━━━━━━━━\u001b[0m\u001b[37m\u001b[0m \u001b[1m2s\u001b[0m 7ms/step - accuracy: 0.9878 - loss: 0.0384 - val_accuracy: 0.9870 - val_loss: 0.0511\n",
            "Epoch 38/50\n",
            "\u001b[1m215/215\u001b[0m \u001b[32m━━━━━━━━━━━━━━━━━━━━\u001b[0m\u001b[37m\u001b[0m \u001b[1m3s\u001b[0m 7ms/step - accuracy: 0.9881 - loss: 0.0378 - val_accuracy: 0.9880 - val_loss: 0.0482\n",
            "Epoch 39/50\n",
            "\u001b[1m215/215\u001b[0m \u001b[32m━━━━━━━━━━━━━━━━━━━━\u001b[0m\u001b[37m\u001b[0m \u001b[1m2s\u001b[0m 8ms/step - accuracy: 0.9869 - loss: 0.0397 - val_accuracy: 0.9878 - val_loss: 0.0482\n",
            "Epoch 40/50\n",
            "\u001b[1m215/215\u001b[0m \u001b[32m━━━━━━━━━━━━━━━━━━━━\u001b[0m\u001b[37m\u001b[0m \u001b[1m3s\u001b[0m 8ms/step - accuracy: 0.9879 - loss: 0.0365 - val_accuracy: 0.9880 - val_loss: 0.0500\n",
            "Epoch 41/50\n",
            "\u001b[1m215/215\u001b[0m \u001b[32m━━━━━━━━━━━━━━━━━━━━\u001b[0m\u001b[37m\u001b[0m \u001b[1m2s\u001b[0m 7ms/step - accuracy: 0.9882 - loss: 0.0368 - val_accuracy: 0.9888 - val_loss: 0.0460\n",
            "Epoch 42/50\n",
            "\u001b[1m215/215\u001b[0m \u001b[32m━━━━━━━━━━━━━━━━━━━━\u001b[0m\u001b[37m\u001b[0m \u001b[1m3s\u001b[0m 7ms/step - accuracy: 0.9879 - loss: 0.0370 - val_accuracy: 0.9874 - val_loss: 0.0505\n",
            "Epoch 43/50\n",
            "\u001b[1m215/215\u001b[0m \u001b[32m━━━━━━━━━━━━━━━━━━━━\u001b[0m\u001b[37m\u001b[0m \u001b[1m2s\u001b[0m 7ms/step - accuracy: 0.9880 - loss: 0.0352 - val_accuracy: 0.9896 - val_loss: 0.0454\n",
            "Epoch 44/50\n",
            "\u001b[1m215/215\u001b[0m \u001b[32m━━━━━━━━━━━━━━━━━━━━\u001b[0m\u001b[37m\u001b[0m \u001b[1m2s\u001b[0m 7ms/step - accuracy: 0.9888 - loss: 0.0335 - val_accuracy: 0.9880 - val_loss: 0.0478\n",
            "Epoch 45/50\n",
            "\u001b[1m215/215\u001b[0m \u001b[32m━━━━━━━━━━━━━━━━━━━━\u001b[0m\u001b[37m\u001b[0m \u001b[1m2s\u001b[0m 8ms/step - accuracy: 0.9881 - loss: 0.0347 - val_accuracy: 0.9888 - val_loss: 0.0469\n",
            "Epoch 46/50\n",
            "\u001b[1m215/215\u001b[0m \u001b[32m━━━━━━━━━━━━━━━━━━━━\u001b[0m\u001b[37m\u001b[0m \u001b[1m2s\u001b[0m 7ms/step - accuracy: 0.9898 - loss: 0.0317 - val_accuracy: 0.9898 - val_loss: 0.0471\n",
            "Epoch 47/50\n",
            "\u001b[1m215/215\u001b[0m \u001b[32m━━━━━━━━━━━━━━━━━━━━\u001b[0m\u001b[37m\u001b[0m \u001b[1m3s\u001b[0m 8ms/step - accuracy: 0.9888 - loss: 0.0333 - val_accuracy: 0.9888 - val_loss: 0.0469\n",
            "Epoch 48/50\n",
            "\u001b[1m215/215\u001b[0m \u001b[32m━━━━━━━━━━━━━━━━━━━━\u001b[0m\u001b[37m\u001b[0m \u001b[1m3s\u001b[0m 8ms/step - accuracy: 0.9889 - loss: 0.0330 - val_accuracy: 0.9888 - val_loss: 0.0470\n",
            "Epoch 49/50\n",
            "\u001b[1m215/215\u001b[0m \u001b[32m━━━━━━━━━━━━━━━━━━━━\u001b[0m\u001b[37m\u001b[0m \u001b[1m2s\u001b[0m 7ms/step - accuracy: 0.9891 - loss: 0.0311 - val_accuracy: 0.9884 - val_loss: 0.0497\n",
            "Epoch 50/50\n",
            "\u001b[1m215/215\u001b[0m \u001b[32m━━━━━━━━━━━━━━━━━━━━\u001b[0m\u001b[37m\u001b[0m \u001b[1m2s\u001b[0m 7ms/step - accuracy: 0.9890 - loss: 0.0330 - val_accuracy: 0.9886 - val_loss: 0.0481\n"
          ]
        },
        {
          "output_type": "execute_result",
          "data": {
            "text/plain": [
              "<keras.src.callbacks.history.History at 0x7f98e6b15330>"
            ]
          },
          "metadata": {},
          "execution_count": 23
        }
      ]
    },
    {
      "cell_type": "markdown",
      "metadata": {
        "id": "QdHP7-5S-Af7"
      },
      "source": [
        "The best model has been saved on disk:"
      ]
    },
    {
      "cell_type": "code",
      "metadata": {
        "id": "XnHPuVYh98CI",
        "colab": {
          "base_uri": "https://localhost:8080/"
        },
        "outputId": "cbf13394-e458-48be-c55b-b4e49e9b8703"
      },
      "source": [
        "!ls -la"
      ],
      "execution_count": null,
      "outputs": [
        {
          "output_type": "stream",
          "name": "stdout",
          "text": [
            "total 21020\n",
            "drwxr-xr-x 1 root root     4096 Sep 26 13:44 .\n",
            "drwxr-xr-x 1 root root     4096 Sep 26 13:36 ..\n",
            "drwxr-xr-x 4 root root     4096 Sep 24 13:22 .config\n",
            "-rw-r--r-- 1 root root  3079479 Sep 26 13:44 kmnist-test-imgs.npz\n",
            "-rw-r--r-- 1 root root     5304 Sep 26 13:44 kmnist-test-labels.npz\n",
            "-rw-r--r-- 1 root root 18384171 Sep 26 13:44 kmnist-train-imgs.npz\n",
            "-rw-r--r-- 1 root root    29700 Sep 26 13:44 kmnist-train-labels.npz\n",
            "drwxr-xr-x 1 root root     4096 Sep 24 13:23 sample_data\n"
          ]
        }
      ]
    },
    {
      "cell_type": "markdown",
      "metadata": {
        "id": "Zm-WA87f-k8B"
      },
      "source": [
        "## Test (best model)"
      ]
    },
    {
      "cell_type": "markdown",
      "metadata": {
        "id": "ZNgS8qNSRkQW"
      },
      "source": [
        "Load the saved weights with the best accuracy:"
      ]
    },
    {
      "cell_type": "code",
      "metadata": {
        "id": "UZjzn6QW-trx"
      },
      "source": [
        "model.load_weights('model.weights.best.hdf5')"
      ],
      "execution_count": null,
      "outputs": []
    },
    {
      "cell_type": "markdown",
      "metadata": {
        "id": "aRvNinv0Rrf7"
      },
      "source": [
        "Use Keras `evaluate` to perform inference without training:"
      ]
    },
    {
      "cell_type": "code",
      "metadata": {
        "id": "J1VJElPy-vKC",
        "colab": {
          "base_uri": "https://localhost:8080/"
        },
        "outputId": "3daad39f-0625-4872-cf78-f978466c78e7"
      },
      "source": [
        "# Evaluate the model on test set\n",
        "score = model.evaluate(x_test_prep, y_test, verbose=0)\n",
        "\n",
        "# Print test accuracy\n",
        "print('\\n', 'Test accuracy:', score[1])"
      ],
      "execution_count": null,
      "outputs": [
        {
          "output_type": "stream",
          "name": "stdout",
          "text": [
            "\n",
            " Test accuracy: 0.9609000086784363\n"
          ]
        }
      ]
    },
    {
      "cell_type": "markdown",
      "source": [
        "Epoch: 50 - Test accuracy: 0.9609000086784363 \\\\\n"
      ],
      "metadata": {
        "id": "D8IFjDhxWWBU"
      }
    },
    {
      "cell_type": "markdown",
      "source": [
        "##Model Wrong/Right Predictions"
      ],
      "metadata": {
        "id": "ibMC_erRKCGA"
      }
    },
    {
      "cell_type": "markdown",
      "metadata": {
        "id": "-NQI9NjAR4L9"
      },
      "source": [
        "Plot a small, random sample of 10 images, labels will be in green if the prediction is correct and in red if it is not:"
      ]
    },
    {
      "cell_type": "code",
      "metadata": {
        "id": "SsniQvbA-3TS",
        "colab": {
          "base_uri": "https://localhost:8080/",
          "height": 604
        },
        "outputId": "0933e0a9-370b-4b37-ffc6-c9aa3befbcc1"
      },
      "source": [
        "y_tilde = model.predict(x_test_prep)\n",
        "\n",
        "# Plot a random sample of 10 test images, their predicted labels and ground truth\n",
        "figure = plt.figure(figsize=(20, 8))\n",
        "for i, index in enumerate(np.random.choice(x_test_prep.shape[0], size=15, replace=False)):\n",
        "    ax = figure.add_subplot(3, 5, i + 1, xticks=[], yticks=[])\n",
        "    # Display each image\n",
        "    ax.imshow(np.squeeze(x_test_prep[index]), cmap='gray')\n",
        "    predict_index = np.argmax(y_tilde[index])\n",
        "    true_index = np.argmax(y_test[index])\n",
        "    # Set the title for each image\n",
        "    ax.set_title(\"{} ({})\".format(k_mnist_labels[predict_index],\n",
        "                                  k_mnist_labels[true_index]),\n",
        "                                  color=(\"green\" if predict_index == true_index else \"red\"))"
      ],
      "execution_count": null,
      "outputs": [
        {
          "output_type": "stream",
          "name": "stdout",
          "text": [
            "\u001b[1m313/313\u001b[0m \u001b[32m━━━━━━━━━━━━━━━━━━━━\u001b[0m\u001b[37m\u001b[0m \u001b[1m0s\u001b[0m 1ms/step\n"
          ]
        },
        {
          "output_type": "display_data",
          "data": {
            "text/plain": [
              "<Figure size 2000x800 with 15 Axes>"
            ],
            "image/png": "[encoded data removed]"
          },
          "metadata": {}
        }
      ]
    }
  ]
}