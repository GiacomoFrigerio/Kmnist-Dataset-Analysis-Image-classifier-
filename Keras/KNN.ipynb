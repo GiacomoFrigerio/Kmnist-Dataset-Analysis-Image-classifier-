{
  "nbformat": 4,
  "nbformat_minor": 0,
  "metadata": {
    "colab": {
      "provenance": []
    },
    "kernelspec": {
      "name": "python3",
      "display_name": "Python 3"
    },
    "language_info": {
      "name": "python"
    }
  },
  "cells": [
    {
      "cell_type": "markdown",
      "metadata": {
        "id": "-BDwmW_Szzbz"
      },
      "source": [
        "#KNN Method"
      ]
    },
    {
      "cell_type": "code",
      "execution_count": null,
      "metadata": {
        "colab": {
          "base_uri": "https://localhost:8080/"
        },
        "id": "UjD9oL4k0Dmt",
        "outputId": "0caa3178-a168-4c6d-d29b-8b3e21e8def3"
      },
      "outputs": [
        {
          "output_type": "stream",
          "name": "stdout",
          "text": [
            "(60000, 28, 28) (10000, 28, 28)\n",
            "(60000, 784) (60000,)\n",
            "(10000, 784) (10000,)\n"
          ]
        }
      ],
      "source": [
        "import numpy as np\n",
        "\n",
        "X_train = np.load('kmnist-train-imgs.npz')['arr_0']\n",
        "Ytrain = np.load('kmnist-train-labels.npz')['arr_0']\n",
        "X_test = np.load('kmnist-test-imgs.npz')['arr_0']\n",
        "Ytest = np.load('kmnist-test-labels.npz')['arr_0']\n",
        "\n",
        "#Now the arrays are 60.000 images 28x28. We want it to be 60.000 x 784.\n",
        "\n",
        "Xtrain = X_train.reshape(X_train.shape[0], -1)\n",
        "Xtest = X_test.reshape(X_test.shape[0], -1)\n",
        "\n",
        "#Xtrain = np.file(\"kminst-train-imgs.npz\")\n",
        "#Ytrain = np.file(\"kmnist-train-labels.npz\")\n",
        "#Xtest = \"kmnist-test-imgs.npz\"\n",
        "#Ytest = \"kmnist-test-labels.npz\"\n",
        "\n",
        "print(X_train.shape, X_test.shape)\n",
        "print(Xtrain.shape,Ytrain.shape)\n",
        "print(Xtest.shape, Ytest.shape)"
      ]
    },
    {
      "cell_type": "code",
      "execution_count": null,
      "metadata": {
        "colab": {
          "base_uri": "https://localhost:8080/"
        },
        "id": "NfoYIrIuzynq",
        "outputId": "a47a8e01-fe8f-42d4-da34-76ffa266d1cc"
      },
      "outputs": [
        {
          "output_type": "stream",
          "name": "stdout",
          "text": [
            "Training set shapes (54000, 784) (54000,)\n",
            "Validation set shapes (6000, 784) (6000,)\n"
          ]
        }
      ],
      "source": [
        "\"\"\" Divide Training set \"\"\"\n",
        "from sklearn.model_selection import train_test_split\n",
        "\n",
        "testsize = 0.1 #percentuale messa in validation\n",
        "Xtrain, Xval, Ytrain, Yval = train_test_split(Xtrain, Ytrain, test_size=testsize, random_state=42)\n",
        "\n",
        "print(\"Training set shapes\" , Xtrain.shape, Ytrain.shape)\n",
        "print(\"Validation set shapes\" ,Xval.shape, Yval.shape)"
      ]
    },
    {
      "cell_type": "code",
      "execution_count": null,
      "metadata": {
        "id": "EuUFvjCy0dlk"
      },
      "outputs": [],
      "source": [
        "def knn_inference(X, Xtrain, Ytrain, k):\n",
        "    classes = Ytrain.max() + 1\n",
        "    D = _dist_matrix(X, Xtrain)\n",
        "    neighs = np.argpartition(D, k, 1)[:, :k]\n",
        "    counts = _bincount_rows(Ytrain[neighs], classes)\n",
        "    labels = np.argmax(counts, 1)\n",
        "    return labels\n",
        "\n",
        "def _bincount_rows(X, values):\n",
        "    \"\"\"Compute one histogram for each row.\"\"\"\n",
        "    # np.bincount works only on 1D arrays.\n",
        "    # This extends it to 2D arrays.\n",
        "    m = X.shape[0]\n",
        "    idx = X.astype(int) + values * np.arange(m)[:, np.newaxis]\n",
        "    c = np.bincount(idx.ravel(), minlength=values * m)\n",
        "    return c.reshape(-1, values)\n",
        "\n",
        "def _dist_matrix(X1, X2):\n",
        "    \"\"\"Compute the matrix of all squared distances.\"\"\"\n",
        "    Q1 = (X1 ** 2).sum(1, keepdims=True)\n",
        "    Q2 = (X2 ** 2).sum(1, keepdims=True)\n",
        "    return Q1- 2 * X1 @ X2.T + Q2.T\n",
        "\n",
        "\n",
        "def knn_select_k(X, Y, maxk=101):\n",
        "    \"\"\"Leave-one-out selection of the number of neighbors.\"\"\"\n",
        "    D = _dist_matrix(X, X)\n",
        "    classes = Y.max() + 1\n",
        "    np.fill_diagonal(D, np.inf)\n",
        "    neighs = np.argsort(D, 1)\n",
        "    best_k = 1\n",
        "    best_acc =-1\n",
        "    for k in range(1, maxk + 1):\n",
        "        counts = _bincount_rows(Y[neighs[:, :k]], classes)\n",
        "        labels = np.argmax(counts, 1)\n",
        "        accuracy = (labels == Y).mean()\n",
        "        if accuracy > best_acc:\n",
        "            best_acc = accuracy\n",
        "            best_k = k\n",
        "    return best_k"
      ]
    },
    {
      "cell_type": "code",
      "execution_count": null,
      "metadata": {
        "id": "v2Qcu03Fz24b"
      },
      "outputs": [],
      "source": [
        "#bestk = 4\n",
        "bestk = knn_select_k(Xtrain, Ytrain)\n",
        "print(\"Best k value: \", bestk)\n",
        "\n",
        "predictions = knn_inference(Xtrain, Xtrain, Ytrain, bestk)\n",
        "Tpredictions = knn_inference(Xtest, Xtrain, Ytrain, bestk)\n",
        "\n",
        "accuracy = (predictions == Ytrain).mean()\n",
        "Taccuracy = (Tpredictions == Ytest).mean()\n",
        "\n",
        "print(\"Training accuracy:\", accuracy * 100)\n",
        "print(\"Test accuracy:\", Taccuracy * 100)"
      ]
    }
  ]
}
